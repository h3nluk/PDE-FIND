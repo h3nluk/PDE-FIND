{
 "cells": [
  {
   "cell_type": "code",
   "execution_count": 18,
   "id": "c93d6963",
   "metadata": {},
   "outputs": [
    {
     "name": "stdout",
     "output_type": "stream",
     "text": [
      "Populating the interactive namespace from numpy and matplotlib\n"
     ]
    }
   ],
   "source": [
    "%pylab inline\n",
    "pylab.rcParams['figure.figsize'] = (12, 8)\n",
    "\n",
    "import numpy as np\n",
    "from mpl_toolkits.mplot3d import Axes3D\n",
    "import sys; sys.path.append('../')\n",
    "from PDE_FIND import *\n",
    "import itertools"
   ]
  },
  {
   "cell_type": "code",
   "execution_count": 19,
   "id": "2b70528c",
   "metadata": {},
   "outputs": [],
   "source": [
    "tb, te = 0., 15.\n",
    "xb, xe = -2*np.pi, 2*np.pi\n",
    "vb, ve = -4.5, 4.5\n",
    "\n",
    "BD = 2 #boundary cells in x-dimension\n",
    "mx, mvx = 32, 32\n",
    "sizex = mx + 2*BD\n",
    "steps = 150 #number of samples in time \n",
    "\n",
    "#load data\n",
    "path = '../Datasets/VlasovLD/'\n",
    "\n",
    "fe = np.load(path+'f_e.npy')\n",
    "x = np.load(path+'x.npy')\n",
    "v = np.load(path+'v.npy')\n",
    "E = np.load(path+'E.npy')\n",
    "t = np.load(path+'t.npy')"
   ]
  },
  {
   "cell_type": "code",
   "execution_count": 20,
   "id": "f05af75f",
   "metadata": {},
   "outputs": [
    {
     "name": "stdout",
     "output_type": "stream",
     "text": [
      "(150, 36)\n",
      "(36,)\n",
      "(32,)\n",
      "(150,)\n",
      "(150, 36, 32)\n"
     ]
    }
   ],
   "source": [
    "print(np.shape(E))\n",
    "print(np.shape(x))\n",
    "print(np.shape(v))\n",
    "print(np.shape(t))\n",
    "print(np.shape(fe))"
   ]
  },
  {
   "cell_type": "code",
   "execution_count": 21,
   "id": "9f17783b",
   "metadata": {},
   "outputs": [
    {
     "name": "stdout",
     "output_type": "stream",
     "text": [
      "0.3926990816987237\n",
      "0.29032258064516103\n",
      "0.10999999999999999\n"
     ]
    }
   ],
   "source": [
    "dx = x[1] - x[0]\n",
    "dv = v[1] - v[0]\n",
    "dt = t[1] - t[0]\n",
    "print(dx)\n",
    "print(dv)\n",
    "print(dt)"
   ]
  },
  {
   "cell_type": "code",
   "execution_count": 22,
   "id": "36372723",
   "metadata": {},
   "outputs": [],
   "source": [
    "#compute velocity moments of the distribution function\n",
    "\n",
    "#first few velocity moments\n",
    "n = np.zeros((steps, sizex)) \n",
    "nu = np.zeros((steps, sizex)) \n",
    "nuu = np.zeros((steps, sizex))\n",
    "\n",
    "for s in range(steps):\n",
    "    for i in range(sizex):\n",
    "        n[s,i] = np.sum(dv*fe[s,i,:])\n",
    "        nu[s,i] = np.sum(dv*fe[s,i,:] * v[:])\n",
    "        nuu[s,i] = np.sum(dv*fe[s,i,:] * v[:]**2)\n",
    "            "
   ]
  },
  {
   "cell_type": "code",
   "execution_count": 105,
   "id": "4573e553",
   "metadata": {},
   "outputs": [],
   "source": [
    "#construct theta and compute Ut\n",
    "\n",
    "#take up to second order derivatives\n",
    "n_t = np.zeros((steps, sizex))\n",
    "\n",
    "n_x = np.zeros((steps, sizex))\n",
    "n_xx = np.zeros((steps, sizex))\n",
    "nu_x = np.zeros((steps, sizex))\n",
    "nu_xx = np.zeros((steps, sizex))\n",
    "nuu_x = np.zeros((steps, sizex))\n",
    "nuu_xx = np.zeros((steps, sizex))\n",
    "\n",
    "\n",
    "dertype = 'NpGrad' #method used for derivatives (other options: 'PolyD', 'NpGrad', 'FDconv')\n",
    "#NOTE: PolyD not working yet\n",
    "\n",
    "#t-derivative\n",
    "if (dertype == 'FD'):\n",
    "    for i in range(sizex):\n",
    "        n_t[:,i] = FiniteDiff(n[:,i], dt, 1)\n",
    "    \n",
    "elif (dertype == 'PolyD'):\n",
    "    for i in range(sizex):\n",
    "        n_t[:,i] = PolyDiff(n[:,i], t, deg=3, diff=1, width=3)\n",
    "\n",
    "elif (dertype == 'NpGrad'):\n",
    "    for i in range(sizex):\n",
    "        n_t[:,i] = np.gradient(n[:,i], t, edge_order = 2)\n",
    "        \n",
    "elif (dertype == 'FDconv'):\n",
    "    for i in range(sizex):\n",
    "        smooth = ConvSmoother(n[:,i], p=1, sigma=3*dt)\n",
    "        n_t[:,i] = FiniteDiff(smooth, dt, 1)\n",
    "    \n",
    "#x-derivatives\n",
    "if (dertype == 'FD'):\n",
    "    for s in range(steps):\n",
    "        n_x[s,:] = FiniteDiff(n[s,:], dx, 1)\n",
    "        n_xx[s,:] = FiniteDiff(n[s,:], dx, 2)\n",
    "        \n",
    "        nu_x[s,:] = FiniteDiff(nu[s,:], dx, 1)\n",
    "        nu_xx[s,:] = FiniteDiff(nu[s,:], dx, 2)\n",
    "        \n",
    "        nuu_x[s,:] = FiniteDiff(nuu[s,:], dx, 1)\n",
    "        nuu_xx[s,:] = FiniteDiff(nuu[s,:], dx, 2)\n",
    "\n",
    "elif (dertype == 'PolyD'):\n",
    "    for s in range(steps):\n",
    "        w = 1\n",
    "        width = 2*w+1\n",
    "        n_x[s,w:sizex-w] = PolyDiff(n[s,:], x, deg=3, diff=1, width=3)\n",
    "        n_xx[s,w:sizex-w] = PolyDiff(n[s,:], x, deg=3, diff=2, width=3)\n",
    "        \n",
    "        nu_x[s,w:sizex-w] = PolyDiff(nu[s,:], x, deg=3, diff=1, width=3)\n",
    "        nu_xx[s,w:sizex-w] = PolyDiff(nu[s,:], x, deg=3, diff=2, width=3)\n",
    "        \n",
    "        nuu_x[s,:] = PolyDiff(nuu[s,:], x, deg=3, diff=1, width=3)\n",
    "        nuu_xx[s,:] = PolyDiff(nuu[s,:], x, deg=3, diff=2, width=3)\n",
    "        \n",
    "elif (dertype == 'NpGrad'):\n",
    "    for s in range(steps):\n",
    "        n_x[s,:] = np.gradient(n[s,:], x, edge_order=2)\n",
    "        n_xx[s,:] = np.gradient(n_x[s,:], x, edge_order=2)\n",
    "        \n",
    "        nu_x[s,:] = np.gradient(nu[s,:], x, edge_order=2)\n",
    "        nu_xx[s,:] = np.gradient(nu_x[s,:], x, edge_order=2)\n",
    "        \n",
    "        nuu_x[s,:] = np.gradient(nuu[s,:], x, edge_order=2)\n",
    "        nuu_xx[s,:] = np.gradient(nuu_x[s,:], x, edge_order=2)\n",
    "        \n",
    "elif (dertype == 'FDconv'):\n",
    "    for s in range(steps):\n",
    "        smooth = ConvSmoother(n[s,:], p=1, sigma=3*dx)\n",
    "        n_x[s,:] = FiniteDiff(smooth, dx, 1)\n",
    "        n_xx[s,:] = FiniteDiff(smooth, dx, 2)\n",
    "        \n",
    "        smooth = ConvSmoother(nu[s,:], p=1, sigma=3*dx)\n",
    "        nu_x[s,:] = FiniteDiff(smooth, dx, 1)\n",
    "        nu_xx[s,:] = FiniteDiff(smooth, dx, 2)\n",
    "        \n",
    "        smooth = ConvSmoother(nuu[s,:], p=1, sigma=3*dx)\n",
    "        nuu_x[s,:] = FiniteDiff(smooth, dx, 1)\n",
    "        nuu_xx[s,:] = FiniteDiff(smooth, dx, 2)"
   ]
  },
  {
   "cell_type": "code",
   "execution_count": 106,
   "metadata": {},
   "outputs": [
    {
     "name": "stdout",
     "output_type": "stream",
     "text": [
      "num_points:  5400\n",
      "Integration done\n"
     ]
    }
   ],
   "source": [
    "#additional integration in space/time after the differentiation\n",
    "\n",
    "integration = True\n",
    "\n",
    "if integration:\n",
    "\n",
    "    def simpson(L, R, M):\n",
    "        return (1./6.)*(L + 4.*M + R)\n",
    "\n",
    "    def simpson_averaging(L, R, M, dx):\n",
    "        return (1./dx)*simpson(L, R, M)\n",
    "\n",
    "    def averaging(arr, w=1):\n",
    "        global dx, dt\n",
    "\n",
    "        steps, sizex = np.shape(arr)\n",
    "\n",
    "        arr_int = np.zeros((steps, sizex))\n",
    "\n",
    "        domain = 2*w+1\n",
    "\n",
    "        for s in range(w, steps-w):\n",
    "            for i in range(w, sizex-w):\n",
    "\n",
    "                #t averaging\n",
    "                arr_int[s, i] = simpson_averaging(arr[s-w, i], arr[s+w, i], arr[s, i], domain*dt)\n",
    "\n",
    "                #x averaging\n",
    "                arr_int[s, i] = simpson_averaging(arr[s, i-w], arr[s, i+1], arr[s, i], domain*dx)\n",
    "\n",
    "        #boundaries\n",
    "        arr_int[0:w, :] = arr[0:w, :]\n",
    "        arr_int[steps-w:steps,:] = arr[steps-w:steps,:]\n",
    "\n",
    "        arr_int[:,0:w] = arr[:,0:w]\n",
    "        arr_int[:,sizex-w] = arr[:,sizex-w]\n",
    "\n",
    "        return arr_int\n",
    "\n",
    "\n",
    "    n_int   = averaging(n)\n",
    "    nu_int  = averaging(nu)\n",
    "    nuu_int = averaging(nuu)\n",
    "\n",
    "    n_t_int = averaging(n_t)\n",
    "    n_x_int = averaging(n_x)\n",
    "    nu_x_int = averaging(nu_x)\n",
    "    nuu_x_int = averaging(nuu_x)\n",
    "\n",
    "    n_xx_int = averaging(n_xx)\n",
    "    nu_xx_int = averaging(nu_xx)\n",
    "    nuu_xx_int = averaging(nuu_xx)\n",
    "\n",
    "    #reshape the data\n",
    "    num_points = steps * sizex\n",
    "    print('num_points: ', num_points)\n",
    "\n",
    "    xn = np.zeros((steps,sizex))\n",
    "    for s in range(steps):\n",
    "        xn[s,:] = x[:]\n",
    "\n",
    "    xn = xn.reshape((num_points, 1))\n",
    "    nn = n_int.reshape((num_points, 1))\n",
    "    nun = nu_int.reshape((num_points, 1))\n",
    "    nuun = nuu_int.reshape((num_points, 1))\n",
    "\n",
    "    n_t = n_t_int.reshape((num_points, 1))\n",
    "    n_x = n_x_int.reshape((num_points, 1))\n",
    "    n_xx = n_xx_int.reshape((num_points, 1))\n",
    "\n",
    "    nu_x = nu_x_int.reshape((num_points, 1))\n",
    "    nu_xx = nu_xx_int.reshape((num_points, 1))\n",
    "\n",
    "    nuu_x = nuu_x_int.reshape((num_points, 1))\n",
    "    nuu_xx = nuu_xx_int.reshape((num_points, 1))\n",
    "    \n",
    "    print('Integration done')"
   ]
  },
  {
   "cell_type": "code",
   "execution_count": 107,
   "id": "383e1610",
   "metadata": {},
   "outputs": [],
   "source": [
    "\n",
    "if (integration != True):\n",
    "    #reshape the data\n",
    "    num_points = steps * sizex\n",
    "    print('num_points: ', num_points)\n",
    "\n",
    "    xn = np.zeros((steps,sizex))\n",
    "    for s in range(steps):\n",
    "        xn[s,:] = x[:]\n",
    "\n",
    "    xn = xn.reshape((num_points, 1))\n",
    "    nn = n.reshape((num_points, 1))\n",
    "    nun = nu.reshape((num_points, 1))\n",
    "    nuun = nuu.reshape((num_points, 1))\n",
    "\n",
    "    n_t = n_t.reshape((num_points, 1))\n",
    "    n_x = n_x.reshape((num_points, 1))\n",
    "    n_xx = n_xx.reshape((num_points, 1))\n",
    "\n",
    "    nu_x = nu_x.reshape((num_points, 1))\n",
    "    nu_xx = nu_xx.reshape((num_points, 1))\n",
    "\n",
    "    nuu_x = nuu_x.reshape((num_points, 1))\n",
    "    nuu_xx = nuu_xx.reshape((num_points, 1))\n",
    "    \n",
    "    print('No Integration')"
   ]
  },
  {
   "cell_type": "code",
   "execution_count": 108,
   "id": "6fa531f5",
   "metadata": {},
   "outputs": [],
   "source": [
    "#form the data\n",
    "X_data = np.hstack([nn, nun, nuun, xn])\n",
    "\n",
    "#X_ders = np.hstack([np.ones((num_points,1)), n_x, nu_x, nuu_x, n_xx, nu_xx, nuu_xx])\n",
    "#X_ders_descr = ['', 'n_{x}', 'nu_{x}', 'nuu_{x}', 'n_{xx}', 'nu_{xx}', 'nuu_{xx}']\n",
    "\n",
    "X_ders = np.hstack([np.ones((num_points,1)), n_x, n_xx, nu_x, nu_xx, nuu_x, nuu_xx])\n",
    "X_ders_descr = ['', 'n_{x}', 'n_{xx}', 'nu_{x}', 'nu_{xx}', 'nuu_{x}', 'nuu_{xx}']"
   ]
  },
  {
   "cell_type": "code",
   "execution_count": 109,
   "id": "0c168ca5",
   "metadata": {},
   "outputs": [
    {
     "name": "stdout",
     "output_type": "stream",
     "text": [
      "Candidate terms for PDE\n",
      "['1', 'n_{x}', 'n_{xx}', 'nu_{x}', 'nu_{xx}', 'nuu_{x}', 'nuu_{xx}', 'x', 'nuu', 'nu', 'n', 'xn_{x}', 'nuun_{x}', 'nun_{x}', 'nn_{x}', 'xn_{xx}', 'nuun_{xx}', 'nun_{xx}', 'nn_{xx}', 'xnu_{x}', 'nuunu_{x}', 'nunu_{x}', 'nnu_{x}', 'xnu_{xx}', 'nuunu_{xx}', 'nunu_{xx}', 'nnu_{xx}', 'xnuu_{x}', 'nuunuu_{x}', 'nunuu_{x}', 'nnuu_{x}', 'xnuu_{xx}', 'nuunuu_{xx}', 'nunuu_{xx}', 'nnuu_{xx}']\n"
     ]
    }
   ],
   "source": [
    "#build theta library\n",
    "Theta, description = build_Theta(X_data, X_ders, X_ders_descr, 1, data_description=['n', 'nu', 'nuu', 'x'])\n",
    "\n",
    "print('Candidate terms for PDE')\n",
    "print(['1'] + description[1:])"
   ]
  },
  {
   "cell_type": "code",
   "execution_count": 110,
   "id": "3f2d29b1",
   "metadata": {},
   "outputs": [
    {
     "name": "stdout",
     "output_type": "stream",
     "text": [
      "Optimal tolerance: 0.15667857142857164\n",
      "Result from TrainSTRidge\n",
      "n_{t} = (-0.966080 +0.000000i)nu_{x}\n",
      "   \n"
     ]
    }
   ],
   "source": [
    "#solve for xi / find sparse solution\n",
    "\n",
    "#TrainSTRidge\n",
    "lam  = 10.**-4\n",
    "d_tol = 0.3\n",
    "\n",
    "c1 = TrainSTRidge(Theta, n_t, lam, d_tol, maxit=50, print_best_tol=True)\n",
    "\n",
    "print('Result from TrainSTRidge')\n",
    "print_pde(c1, description, ut = 'n_{t}')"
   ]
  },
  {
   "cell_type": "code",
   "execution_count": 111,
   "id": "b6e926c0",
   "metadata": {},
   "outputs": [
    {
     "name": "stdout",
     "output_type": "stream",
     "text": [
      "Result from STRidge\n",
      "n_{t} = (-0.966213 +0.000000i)nu_{x}\n",
      "   \n"
     ]
    }
   ],
   "source": [
    "#STRidge\n",
    "c2 = STRidge(Theta, n_t, lam=lam,  maxit=50, tol=0.1*d_tol)\n",
    "\n",
    "print('Result from STRidge')\n",
    "print_pde(c2, description, ut= 'n_{t}')"
   ]
  },
  {
   "cell_type": "code",
   "execution_count": 117,
   "id": "c90918a7",
   "metadata": {},
   "outputs": [
    {
     "name": "stdout",
     "output_type": "stream",
     "text": [
      "Result from Lasso\n",
      "n_{t} = (-1.078938 +0.000000i)nu_{x}\n",
      "    + (-0.020918 +0.000000i)nuunu_{x}\n",
      "    + (0.148547 +0.000000i)nnu_{x}\n",
      "   \n"
     ]
    }
   ],
   "source": [
    "#LASSO\n",
    "c3 = Lasso(Theta, n_t.flatten(), lam=0.16)\n",
    "\n",
    "print('Result from Lasso')\n",
    "print_pde(c3, description, ut='n_{t}')"
   ]
  },
  {
   "cell_type": "code",
   "execution_count": 113,
   "id": "9fb9a2fa",
   "metadata": {},
   "outputs": [
    {
     "name": "stdout",
     "output_type": "stream",
     "text": [
      "Result from FoBaGreedy\n",
      "n_{t} = (-0.966213 +0.000000i)nu_{x}\n",
      "   \n"
     ]
    }
   ],
   "source": [
    "#FoBa\n",
    "c4 = FoBaGreedy(Theta, n_t)\n",
    "\n",
    "print('Result from FoBaGreedy')\n",
    "print_pde(c4, description, ut='n_{t}')"
   ]
  },
  {
   "cell_type": "code",
   "execution_count": null,
   "metadata": {},
   "outputs": [],
   "source": []
  }
 ],
 "metadata": {
  "kernelspec": {
   "display_name": "Python 3",
   "language": "python",
   "name": "python3"
  },
  "language_info": {
   "codemirror_mode": {
    "name": "ipython",
    "version": 3
   },
   "file_extension": ".py",
   "mimetype": "text/x-python",
   "name": "python",
   "nbconvert_exporter": "python",
   "pygments_lexer": "ipython3",
   "version": "3.10.4"
  }
 },
 "nbformat": 4,
 "nbformat_minor": 5
}
